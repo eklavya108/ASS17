{
  "metadata": {
    "kernelspec": {
      "name": "xpython",
      "display_name": "Python 3.13 (XPython)",
      "language": "python"
    },
    "language_info": {
      "file_extension": ".py",
      "mimetype": "text/x-python",
      "name": "python",
      "version": "3.13.1"
    }
  },
  "nbformat_minor": 5,
  "nbformat": 4,
  "cells": [
    {
      "id": "5779feb3-f0fc-4efb-a472-895597078746",
      "cell_type": "code",
      "source": "def avgnum():\n    n= int(input(\"Enter number of element u want:\"))\n    l=[]\n    for i in range(n):\n        o=int(input(\"Enter element:\"))\n        l+=[o]\n    return sum(l)/n\nprint(avgnum())",
      "metadata": {
        "trusted": true
      },
      "outputs": [
        {
          "output_type": "stream",
          "name": "stdin",
          "text": "Enter number of element u want: 5\nEnter element: 4\nEnter element: 5\nEnter element: 6\nEnter element: 7\nEnter element: 8\n"
        },
        {
          "name": "stdout",
          "output_type": "stream",
          "text": "6.0\n"
        }
      ],
      "execution_count": 5
    },
    {
      "id": "c24af2f6-1204-466c-b1b7-ba4dea05f787",
      "cell_type": "code",
      "source": "def factorial_methods(n):\n    # Recursive implementation\n    def recursive_factorial(x):\n        if x == 0 or x == 1:\n            return 1\n        return x * recursive_factorial(x - 1)\n\n    # Iterative implementation\n    def iterative_factorial(x):\n        result = 1\n        for i in range(2, x + 1):\n            result *= i\n        return result\n\n    return  {\"recursive\": recursive_factorial(n), \"iterative\": iterative_factorial(n) }\n\n# Example usage\nn= int(input(\"Enter number whose factorial u want:\"))\nprint(factorial_methods(n))\n",
      "metadata": {
        "trusted": true
      },
      "outputs": [
        {
          "output_type": "stream",
          "name": "stdin",
          "text": "Enter number whose factorial u want: 6\n"
        },
        {
          "name": "stdout",
          "output_type": "stream",
          "text": "{'recursive': 720, 'iterative': 720}\n"
        }
      ],
      "execution_count": 8
    },
    {
      "id": "0ff52e9f-deae-448d-b1bd-581d6b565e6b",
      "cell_type": "code",
      "source": "def studentdetail():\n    no=int(input(\"Number of student entry u want:\"))\n    for i in range(no):\n        d=dict()\n        name=input(\"enter name:\")\n        rollno=int(input(\"Enter rollno:\"))\n        std=input(\"Enter class:\")\n        age=int(input(\"Enter age:\"))\n        l=[name.title(),age,std.upper()]\n        d[rollno]=l\n    return d\n\nf=studentdetail()\n\ndef print_student_details():\n    for key, value in f.items():\n        print(f\"{key}: {value}\")\n\n# Example usage:\nprint_student_details()\n",
      "metadata": {
        "trusted": true
      },
      "outputs": [
        {
          "output_type": "stream",
          "name": "stdin",
          "text": "Number of student entry u want: 2\nenter name: ekl\nEnter rollno: 12\nEnter class: 12\nEnter age: 24\nenter name: eh\nEnter rollno: 24\nEnter class: 24\nEnter age: 25\n"
        },
        {
          "name": "stdout",
          "output_type": "stream",
          "text": "24: ['Eh', 25, '24']\n"
        }
      ],
      "execution_count": 10
    },
    {
      "id": "a59417b8-00e4-4966-8846-98893574f1f8",
      "cell_type": "code",
      "source": "def list_statistics(numbers, as_float=True):\n    if not numbers:\n        return (None, None, None)\n    \n    maximum = max(numbers)\n    minimum = min(numbers)\n    average = sum(numbers) / len(numbers)\n    \n    if not as_float:\n        average = round(average)\n    \n    return (maximum, minimum, average)\n\n# Example usage:\nprint(list_statistics([10, 20, 30, 40, 50])) \n",
      "metadata": {
        "trusted": true
      },
      "outputs": [
        {
          "name": "stdout",
          "output_type": "stream",
          "text": "(50, 10, 30.0)\n"
        }
      ],
      "execution_count": 12
    },
    {
      "id": "3f6683ec-6ffc-4da9-848c-fda81e1e4a1b",
      "cell_type": "code",
      "source": "counter=4\ndef var(counter):\n    print(counter)\n    n=int(input(\"Enter the new number:\"))\n    counter=n\n    print(f\"update counter\",counter)\n\nvar(counter)\n    ",
      "metadata": {
        "trusted": true
      },
      "outputs": [
        {
          "name": "stdout",
          "output_type": "stream",
          "text": "4\n"
        },
        {
          "output_type": "stream",
          "name": "stdin",
          "text": "Enter the new number: 45\n"
        },
        {
          "name": "stdout",
          "output_type": "stream",
          "text": "update counter 45\n"
        }
      ],
      "execution_count": 18
    },
    {
      "id": "ca2fffc4-6857-4f90-84ea-92c797d6ceca",
      "cell_type": "code",
      "source": "def reverse_string(s):\n    if len(s) == 0:\n        return s\n    return reverse_string(s[1:]) + s[0]\ns=input(\"Enter a sentence:\")\nprint(reverse_string(s))",
      "metadata": {
        "trusted": true
      },
      "outputs": [
        {
          "output_type": "stream",
          "name": "stdin",
          "text": "Enter a sentence: the a great\n"
        },
        {
          "name": "stdout",
          "output_type": "stream",
          "text": "taerg a eht\n"
        }
      ],
      "execution_count": 2
    },
    {
      "id": "222a8247-176f-4d85-be81-3c373afabcc9",
      "cell_type": "code",
      "source": "def get_even_numbers(lst):\n    return list(filter(lambda x: x % 2 == 0, lst))\nn=int(input(\"Enter no of element you want:\"))\nl=[]\nfor i in range(n):\n    i=int(input(\"Enter element:\"))\n    l+=[i]\nprint(get_even_numbers(l))",
      "metadata": {
        "trusted": true
      },
      "outputs": [
        {
          "output_type": "stream",
          "name": "stdin",
          "text": "Enter no of element you want: 3\nEnter element: 23\nEnter element: 45\nEnter element: 76\n"
        },
        {
          "name": "stdout",
          "output_type": "stream",
          "text": "[76]\n"
        }
      ],
      "execution_count": 2
    },
    {
      "id": "bb3a58d1-d93b-42a7-9337-8a90b8c2be7a",
      "cell_type": "code",
      "source": "def calculator(operation, num1, num2):\n    if operation == 'add':\n        return num1 + num2\n    elif operation == 'subtract':\n        return num1 - num2\n    elif operation == 'multiply':\n        return num1 * num2\n    elif operation == 'divide':\n        return num1 / num2\n    else:\n        return \"Invalid operation\"\n\ns=input(\"Enter operation name u want:\")\nn1=int(input(\"Enter first number:\"))\nn2=int(input(\"Enter second number:\"))\nprint(calculator(s.lower(),n1,n2))\n",
      "metadata": {
        "trusted": true
      },
      "outputs": [
        {
          "output_type": "stream",
          "name": "stdin",
          "text": "Enter operation name u want: ADD\nEnter first number: 34\nEnter second number: 56\n"
        },
        {
          "name": "stdout",
          "output_type": "stream",
          "text": "90\n"
        }
      ],
      "execution_count": 5
    },
    {
      "id": "a74d919c-afd5-44b8-a55d-412824ddb883",
      "cell_type": "code",
      "source": "def multi_apply(func, args):\n    return [func(arg) for arg in args]\ndef square(x):\n    return x * x\nl=[]\ni=int(input(\"Number of enteries:\"))\nfor i in range(i):\n    u=int(input(\"Enter number hows square u want:\"))\n    l+=[u]\nprint(multi_apply(square,l))\n",
      "metadata": {
        "trusted": true
      },
      "outputs": [
        {
          "output_type": "stream",
          "name": "stdin",
          "text": "Number of enteries: 2\nEnter number hows square u want: 4\nEnter number hows square u want: 6\n"
        },
        {
          "name": "stdout",
          "output_type": "stream",
          "text": "[16, 36]\n"
        }
      ],
      "execution_count": 11
    },
    {
      "id": "9cc9448b-399e-4121-81a7-c4e8256e1c96",
      "cell_type": "code",
      "source": "def make_multiplier(factor):\n    def multiplier(*args):\n        return [factor * x for x in args]\n    return multiplier\nn=int(input(\"Enter number u want to multiple:\"))\ntimes3 = make_multiplier(n)\nprint(times3(1,2,3))  # Output: [3, 6, 9]",
      "metadata": {
        "trusted": true
      },
      "outputs": [
        {
          "output_type": "stream",
          "name": "stdin",
          "text": "Enter number u want to multiple: 5\n"
        },
        {
          "name": "stdout",
          "output_type": "stream",
          "text": "[5, 10, 15]\n"
        }
      ],
      "execution_count": 14
    },
    {
      "id": "5a65ecff-fbbc-45c3-b797-34c571f94de4",
      "cell_type": "code",
      "source": "",
      "metadata": {
        "trusted": true
      },
      "outputs": [],
      "execution_count": null
    },
    {
      "id": "127e39f9-4e54-4dca-99ea-3f514f01c56d",
      "cell_type": "code",
      "source": "",
      "metadata": {
        "trusted": true
      },
      "outputs": [],
      "execution_count": null
    },
    {
      "id": "ece1ecc1-01ff-4f75-a022-f23da8c870c3",
      "cell_type": "code",
      "source": "",
      "metadata": {
        "trusted": true
      },
      "outputs": [],
      "execution_count": null
    }
  ]
}